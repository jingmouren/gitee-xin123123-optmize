{
 "cells": [
  {
   "cell_type": "code",
   "execution_count": 49,
   "metadata": {},
   "outputs": [],
   "source": [
    "#导入所用的工具包\n",
    "import pandas as pd\n",
    "import numpy as np\n",
    "import re\n",
    "from sklearn.model_selection import train_test_split\n",
    "from sklearn.svm import SVC\n",
    "from sklearn.naive_bayes import GaussianNB\n",
    "from sklearn.ensemble import RandomForestClassifier, GradientBoostingClassifier\n",
    "from sklearn.linear_model import LogisticRegression\n",
    "from sklearn.neighbors import KNeighborsClassifier\n",
    "from sklearn.neural_network import MLPClassifier\n",
    "from sklearn.pipeline import make_pipeline\n",
    "from sklearn.ensemble import ExtraTreesClassifier\n",
    "from sklearn.ensemble import AdaBoostClassifier\n",
    "from sklearn.tree import DecisionTreeClassifier\n",
    "import lightgbm as lgb_model\n",
    "from sklearn.metrics import roc_auc_score\n",
    "from mlens.visualization import corrmat\n",
    "import matplotlib.pyplot as plt\n",
    "import seaborn as sns\n",
    "from mlens.ensemble import SuperLearner\n",
    "# 画ROC曲线对模型性能进行比较\n",
    "from sklearn.metrics import roc_curve\n",
    "import matplotlib.pyplot as plt\n"
   ]
  },
  {
   "cell_type": "code",
   "execution_count": 8,
   "metadata": {},
   "outputs": [
    {
     "data": {
      "text/plain": [
       "'C:\\\\Users\\\\Administrator\\\\Desktop\\\\时间序列策略\\\\参数优化代码\\\\notebook'"
      ]
     },
     "execution_count": 8,
     "metadata": {},
     "output_type": "execute_result"
    }
   ],
   "source": [
    "import os\n",
    "os.getcwd()"
   ]
  },
  {
   "cell_type": "code",
   "execution_count": 10,
   "metadata": {},
   "outputs": [
    {
     "name": "stdout",
     "output_type": "stream",
     "text": [
      "匹配了这些列 注册时间\n",
      "匹配了这些列 最近一次登录时间\n",
      "匹配了这些列 开通托管日期\n",
      "匹配了这些列 首次充值日期\n",
      "匹配了这些列 首投时间\n",
      "匹配了这些列 首投距今时间（天）\n",
      "匹配了这些列 最近一次投资距今时间（天）\n"
     ]
    }
   ],
   "source": [
    "data = pd.read_excel(r\"./模型算法-02-Quantum One 面试数据集.xlsx\")#读取数据，后面有数据链接\n",
    "SEED = 123#设立随机种子以便结果复现\n",
    "np.random.seed(SEED)\n",
    "# data.info()#查看数据基本信息\n",
    "data = data.drop([\"最近一次登录ip\",\"用户注册渠道\"],axis=1)#考虑到用户注册渠道变量缺失值太多，直接删除，然后最近一次登录IP没有对它解析，这个也暂时删除掉。\n",
    "data = data.fillna(method='pad')#填补缺失值，用的是pad平滑数据的方法，一定要记得加method=哦，要不然有时候会把pad当做字符串填进去的\n",
    "# data.info()#再次查看数据信息，缺失值填充完毕\n",
    "#用describe方法查看哪些变量需要离散化，一般是float对象都需要离散化\n",
    "data[[\"年龄\",\"投资等级\",\"首投距今时间（天）\",\"最近一次投资距今时间（天）\",\"首投距注册时长（天）\",\"投资金额\"]].describe()\n",
    "def split0(x,col):\n",
    "    if  np.percentile(col,25)>x>=min(col):\n",
    "        x=\"a\"\n",
    "    elif np.percentile(col,50)>x>=np.percentile(col,25):\n",
    "        x=\"b\"\n",
    "    elif np.percentile(col,75)>x>=np.percentile(col,50):\n",
    "        x=\"c\"\n",
    "    else:\n",
    "        x=\"d\"\n",
    "    return x    #不能少\n",
    "for y in [\"年龄\",\"投资等级\",\"首投距今时间（天）\",\"最近一次投资距今时间（天）\",\"首投距注册时长（天）\"]:\n",
    "    data[y]=data[y].apply(lambda x:split0(x,data[y]))\n",
    "for i in data.columns:\n",
    "    if re.search(\"是否\",i):\n",
    "        data[i]=data[i].map({\"是\":1,\"否\":0})\n",
    "def match_col(x):\n",
    "    if re.search(\"2015\",x):\n",
    "        x=0\n",
    "    elif re.search(\"2016\",x):\n",
    "        x=1\n",
    "    else:pass\n",
    "    return x\n",
    "for i in data.columns:\n",
    "    if re.search('日期',i) or re.search('时间',i):\n",
    "        data[i]=data[i].apply(lambda x: match_col(x))\n",
    "        print(\"匹配了这些列\",i)\n",
    "\n",
    "def split2(x):\n",
    "    if re.search(\"iphone\",x):\n",
    "        x=\"a\"\n",
    "    elif re.search(\"HUAWEI\",x):\n",
    "        x=\"b\"\n",
    "    elif re.search(\"Xiaomi\",x):\n",
    "        x=\"c\"\n",
    "    else:x=\"d\"\n",
    "    return x\n",
    "data[\"最近一次登录设备\"]=data[\"最近一次登录设备\"].apply(split2)\n",
    "Y=data.pop(\"投资金额\")\n",
    "#为了后面用梯度下降法计算w，所以这里需要reshape为2维\n",
    "Y=pd.DataFrame(Y.values.reshape((5000,1)))\n",
    "X=pd.get_dummies(data[data.columns.drop(\"用户id\")])\n",
    "X=X.add(np.ones(len(X)),axis=0)#增加偏置列，默认为1\n",
    "def scale(x):#进行数据标准化，防止过拟合\n",
    "    x=(x-x.mean())/(x.std()+0.0001)\n",
    "    return x\n",
    "X=X.apply(scale,axis=0)\n"
   ]
  },
  {
   "cell_type": "code",
   "execution_count": 16,
   "metadata": {
    "scrolled": true
   },
   "outputs": [
    {
     "name": "stdout",
     "output_type": "stream",
     "text": [
      "      最近一次登录时间    是否开通托管  本月是否有大额回款  是否访问7天内注册  是否注册7天内充值  是否注册7天内投资  \\\n",
      "2648       0.0  0.014043   1.324289  -0.212361  -0.626811   0.675085   \n",
      "2456       0.0  0.014043   1.324289  -0.212361  -0.626811   0.675085   \n",
      "4557       0.0  0.014043  -0.754657  -0.212361   1.594349  -1.480360   \n",
      "4884       0.0  0.014043  -0.754657  -0.212361  -0.626811   0.675085   \n",
      "92         0.0  0.014043   1.324289  -0.212361  -0.626811   0.675085   \n",
      "\n",
      "      是否托管7天内充值  是否托管7天内投资  是否充值7天内投资      年龄_a  ...  用户浏览产品期限倾向(月）_7-12  \\\n",
      "2648  -0.507624   0.558991  -1.277484 -0.545117  ...           -0.655381   \n",
      "2456  -0.507624   0.558991   0.782310  1.833229  ...            1.524861   \n",
      "4557   1.968592  -1.787740   0.782310  1.833229  ...            1.524861   \n",
      "4884  -0.507624   0.558991  -1.277484  1.833229  ...           -0.655381   \n",
      "92    -0.507624   0.558991   0.782310 -0.545117  ...            1.524861   \n",
      "\n",
      "      用户浏览产品利率倾向_(0,4%]  用户浏览产品利率倾向_(4%,5.5%]  用户浏览产品利率倾向_(5.5%,6%]  \\\n",
      "2648          -0.145629              0.914539             -0.170848   \n",
      "2456          -0.145629             -1.092790             -0.170848   \n",
      "4557          -0.145629             -1.092790             -0.170848   \n",
      "4884          -0.145629              0.914539             -0.170848   \n",
      "92            -0.145629             -1.092790             -0.170848   \n",
      "\n",
      "      用户浏览产品利率倾向_(6%,7.5%]  用户浏览产品利率倾向_7%以上    投资等级_a    投资等级_b    投资等级_c  \\\n",
      "2648             -0.457845        -0.550978 -0.550361 -0.535543  1.660602   \n",
      "2456             -0.457845         1.813734 -0.550361 -0.535543  1.660602   \n",
      "4557             -0.457845         1.813734 -0.550361 -0.535543 -0.601798   \n",
      "4884             -0.457845        -0.550978  1.815766 -0.535543 -0.601798   \n",
      "92               -0.457845         1.813734 -0.550361 -0.535543 -0.601798   \n",
      "\n",
      "        投资等级_d  \n",
      "2648 -0.620935  \n",
      "2456 -0.620935  \n",
      "4557  1.609435  \n",
      "4884 -0.620935  \n",
      "92    1.609435  \n",
      "\n",
      "[5 rows x 1160 columns]\n"
     ]
    }
   ],
   "source": [
    "x_train,x_test,y_train,y_test=train_test_split(X,Y,test_size=0.3,random_state=SEED)#划分数据集\n",
    "print(x_test.head())"
   ]
  },
  {
   "cell_type": "code",
   "execution_count": 17,
   "metadata": {},
   "outputs": [],
   "source": [
    "def linear_regression_by_gd(X, Y, gamma=0.000001, eps=0.0001, max_iter=100): #梯度下降求线性回归\n",
    "    pre_w = np.array(np.ones((X.shape[1], 1)))\n",
    "    cur_w = np.array(np.zeros((X.shape[1], 1)))\n",
    "    count = 1\n",
    "    while (cur_w - pre_w).T.dot(cur_w - pre_w) > eps and count < max_iter:\n",
    "        pre_w = cur_w\n",
    "        cur_w = cur_w - np.array(gamma / np.sqrt(count) * X.T.dot( X.dot(cur_w) - Y))\n",
    "        count += 1\n",
    "    return cur_w\n",
    "\n",
    "w = linear_regression_by_gd(x_train, y_train)\n",
    "\n",
    "\n",
    "y_train=2**(y_train > Y.median()) -1#将连续目标变量转换为2分类变量,median表示中位数值\n",
    "y_train1 = np.ravel(y_train)\n",
    "y_test=2**(y_test > Y.median()) -1\n",
    "y_test1 = np.ravel(y_test)"
   ]
  },
  {
   "cell_type": "code",
   "execution_count": 19,
   "metadata": {},
   "outputs": [],
   "source": [
    "def get_models():\n",
    "#\"\"\"Generate a library of base learners.\"\"\"\n",
    "    nb = GaussianNB()#朴素贝叶斯\n",
    "    svc = SVC(C=1,random_state=SEED,kernel=\"linear\" ,probability=True)#kernel选用线性最好，因为kerenl太复杂容易过拟合，支持向量机\n",
    "    knn = KNeighborsClassifier(n_neighbors=3)#K近邻聚类\n",
    "    lr = LogisticRegression(C=100, random_state=SEED)#逻辑回归\n",
    "    nn = MLPClassifier((80, 10), early_stopping=False, random_state=SEED)#多层感知器\n",
    "    gb = GradientBoostingClassifier(n_estimators=100, random_state=SEED)#GDBT\n",
    "    rf = RandomForestClassifier(n_estimators=10, max_features=3, random_state=SEED)#随机森林\n",
    "    etree=ExtraTreesClassifier(random_state=SEED)#etree\n",
    "    adaboost=AdaBoostClassifier(random_state=SEED)#adaboost\n",
    "    dtree=DecisionTreeClassifier(random_state=SEED)#决策树\n",
    "    lightgbmlgb=lgb_model.sklearn.LGBMClassifier(is_unbalance=False,learning_rate=0.04,n_estimators=110,max_bin=400,scale_pos_weight=0.8)#lightGBM，需要安装lightGBM，pip3 install lightGBM\n",
    "\n",
    "    models = {\n",
    "              'svm': svc,\n",
    "              'knn': knn,\n",
    "              'naive bayes': nb,\n",
    "              'mlp-nn': nn,\n",
    "              'random forest': rf,\n",
    "              'gbm': gb,\n",
    "              'logistic': lr,\n",
    "              'etree': etree,\n",
    "              'adaboost': adaboost,\n",
    "              'dtree': dtree,\n",
    "              # 'lgb': lightgbmlgb,\n",
    "             }\n",
    "    return models\n",
    "\n",
    "def train_predict(model_list):#预测\n",
    "    P = np.zeros((y_test.shape[0], len(model_list)))\n",
    "    P = pd.DataFrame(P)\n",
    "    print(\"Fitting models.\")\n",
    "    cols = list()\n",
    "    for i, (name, m) in enumerate(model_list.items()):\n",
    "        print(\"%s...\" % name, end=\" \", flush=False)\n",
    "        m.fit(x_train, y_train1)\n",
    "        P.iloc[:, i] = m.predict(x_test)\n",
    "        cols.append(name)\n",
    "        print(\"done\")\n",
    "    P.columns = cols\n",
    "    print(\"ALL model Done.\\n\")\n",
    "    return P\n",
    "\n",
    "def score_models(P, y):#打印AUC值\n",
    "#\"\"\"Score model in prediction DF\"\"\"\n",
    "    print(\"Scoring AUC的值models.\")\n",
    "    for m in P.columns:\n",
    "        score = roc_auc_score(y, P.loc[:, m])\n",
    "        print(\"%-26s: %.3f\" % (m, score))\n",
    "    print(\"Done.\\n\")"
   ]
  },
  {
   "cell_type": "code",
   "execution_count": 21,
   "metadata": {},
   "outputs": [
    {
     "name": "stdout",
     "output_type": "stream",
     "text": [
      "Fitting models.\n",
      "svm... done\n",
      "knn... done\n",
      "naive bayes... done\n",
      "mlp-nn... done\n",
      "random forest... done\n",
      "gbm... done\n",
      "logistic... "
     ]
    },
    {
     "name": "stderr",
     "output_type": "stream",
     "text": [
      "D:\\anaconda\\lib\\site-packages\\sklearn\\linear_model\\logistic.py:432: FutureWarning: Default solver will be changed to 'lbfgs' in 0.22. Specify a solver to silence this warning.\n",
      "  FutureWarning)\n"
     ]
    },
    {
     "name": "stdout",
     "output_type": "stream",
     "text": [
      "done\n",
      "etree... "
     ]
    },
    {
     "name": "stderr",
     "output_type": "stream",
     "text": [
      "D:\\anaconda\\lib\\site-packages\\sklearn\\ensemble\\forest.py:245: FutureWarning: The default value of n_estimators will change from 10 in version 0.20 to 100 in 0.22.\n",
      "  \"10 in version 0.20 to 100 in 0.22.\", FutureWarning)\n"
     ]
    },
    {
     "name": "stdout",
     "output_type": "stream",
     "text": [
      "done\n",
      "adaboost... done\n",
      "dtree... done\n",
      "ALL model Done.\n",
      "\n",
      "Scoring AUC的值models.\n",
      "svm                       : 0.888\n",
      "knn                       : 0.585\n",
      "naive bayes               : 0.832\n",
      "mlp-nn                    : 0.846\n",
      "random forest             : 0.750\n",
      "gbm                       : 0.902\n",
      "logistic                  : 0.870\n",
      "etree                     : 0.891\n",
      "adaboost                  : 0.888\n",
      "dtree                     : 0.882\n",
      "Done.\n",
      "\n"
     ]
    }
   ],
   "source": [
    "base_learners = get_models()\n",
    "P = train_predict(base_learners)\n",
    "score_models(P, y_test1)\n"
   ]
  },
  {
   "cell_type": "code",
   "execution_count": 47,
   "metadata": {},
   "outputs": [
    {
     "data": {
      "image/png": "[encoded data removed]",
      "text/plain": [
       "<Figure size 648x648 with 2 Axes>"
      ]
     },
     "metadata": {
      "needs_background": "light"
     },
     "output_type": "display_data"
    }
   ],
   "source": [
    "# corrmat(P.corr(), inflate=False)\n",
    "# plt.show()\n",
    "P = P.astype('float')\n",
    "\n",
    "# corrmat([[1,1],[2,2]], inflate=False)\n",
    "plt.subplots(figsize=(9, 9))\n",
    "sns.heatmap(P.corr(), annot=True, vmax=1, square=True, cmap=\"Blues\")\n",
    "plt.show()"
   ]
  },
  {
   "cell_type": "code",
   "execution_count": 48,
   "metadata": {},
   "outputs": [
    {
     "data": {
      "text/plain": [
       "GradientBoostingClassifier(criterion='friedman_mse', init=None,\n",
       "                           learning_rate=0.05, loss='exponential', max_depth=5,\n",
       "                           max_features=3, max_leaf_nodes=None,\n",
       "                           min_impurity_decrease=0.0, min_impurity_split=None,\n",
       "                           min_samples_leaf=1, min_samples_split=2,\n",
       "                           min_weight_fraction_leaf=0.0, n_estimators=1000,\n",
       "                           n_iter_no_change=None, presort='auto',\n",
       "                           random_state=123, subsample=0.8, tol=0.0001,\n",
       "                           validation_fraction=0.1, verbose=0,\n",
       "                           warm_start=False)"
      ]
     },
     "execution_count": 48,
     "metadata": {},
     "output_type": "execute_result"
    }
   ],
   "source": [
    "# 定义元学习器GBDT\n",
    "\n",
    "meta_learner = GradientBoostingClassifier(\n",
    "\n",
    "    n_estimators=1000,\n",
    "\n",
    "    loss=\"exponential\",\n",
    "\n",
    "    max_features=3,\n",
    "\n",
    "    max_depth=5,\n",
    "\n",
    "    subsample=0.8,\n",
    "\n",
    "    learning_rate=0.05,\n",
    "\n",
    "    random_state=SEED\n",
    ")\n",
    "\n",
    "meta_learner.fit(P, y_test1)#用基学习器的预测值作为元学习器的输入，并拟合元学习器，元学习器一定要拟合，不然无法集成。\n"
   ]
  },
  {
   "cell_type": "code",
   "execution_count": null,
   "metadata": {},
   "outputs": [
    {
     "name": "stdout",
     "output_type": "stream",
     "text": [
      "\n",
      "Fitting 2 layers\n",
      "Processing layer-1             "
     ]
    }
   ],
   "source": [
    "#5折集成\n",
    "sl = SuperLearner(\n",
    "    folds=5,\n",
    "    random_state=SEED,\n",
    "    verbose=2,\n",
    "    backend=\"multiprocessing\"\n",
    ")\n",
    "\n",
    "sl.add(list(base_learners.values()), proba=True) # 加入基学习器\n",
    "sl.add_meta(meta_learner, proba=True)# 加入元学习器\n",
    "# 训练集成模型\n",
    "sl.fit(x_train[:1000], y_train1[:1000])\n",
    "# 预测\n",
    "p_sl = sl.predict_proba(x_test)\n",
    "print(\"\\n超级学习器的AUC值: %.3f\" % roc_auc_score(y_test1, p_sl[:, 1]))\n",
    "\n",
    "\n",
    "\n"
   ]
  },
  {
   "cell_type": "code",
   "execution_count": null,
   "metadata": {},
   "outputs": [],
   "source": [
    "#画roc曲线\n",
    "def plot_roc_curve(ytest, P_base_learners, P_ensemble, labels, ens_label):\n",
    "\n",
    "    \"\"\"Plot the roc curve for base learners and ensemble.\"\"\"\n",
    "    plt.figure(figsize=(10, 8))\n",
    "    plt.plot([0, 1], [0, 1], 'k--')\n",
    "    cm = [plt.cm.rainbow(i)\n",
    "      for i in np.linspace(0, 1.0, P_base_learners.shape[1] + 1)]\n",
    "    for i in range(P_base_learners.shape[1]):\n",
    "        p = P_base_learners[:, i]\n",
    "        fpr, tpr, _ = roc_curve(ytest, p)\n",
    "        plt.plot(fpr, tpr, label=labels[i], c=cm[i + 1])\n",
    "    fpr, tpr, _ = roc_curve(ytest, P_ensemble)\n",
    "    plt.plot(fpr, tpr, label=ens_label, c=cm[0])\n",
    "    plt.xlabel('False positive rate')\n",
    "    plt.ylabel('True positive rate')\n",
    "    plt.title('ROC curve')\n",
    "    plt.legend(loc=\"lower right\",frameon=False)\n",
    "    plt.show()\n",
    "\n",
    "plot_roc_curve(y_test1, P.values, p_sl[:,1], list(P.columns), \"Super Learner\")\n"
   ]
  }
 ],
 "metadata": {
  "kernelspec": {
   "display_name": "Python 3",
   "language": "python",
   "name": "python3"
  },
  "language_info": {
   "codemirror_mode": {
    "name": "ipython",
    "version": 3
   },
   "file_extension": ".py",
   "mimetype": "text/x-python",
   "name": "python",
   "nbconvert_exporter": "python",
   "pygments_lexer": "ipython3",
   "version": "3.7.2"
  }
 },
 "nbformat": 4,
 "nbformat_minor": 2
}
